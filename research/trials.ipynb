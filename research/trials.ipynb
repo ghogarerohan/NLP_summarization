{
 "cells": [
  {
   "cell_type": "code",
   "execution_count": 1,
   "metadata": {},
   "outputs": [],
   "source": [
    "import os"
   ]
  },
  {
   "cell_type": "code",
   "execution_count": 2,
   "metadata": {},
   "outputs": [],
   "source": [
    "import torch"
   ]
  },
  {
   "cell_type": "code",
   "execution_count": 3,
   "metadata": {},
   "outputs": [],
   "source": [
    "import setuptools"
   ]
  },
  {
   "cell_type": "code",
   "execution_count": 4,
   "metadata": {},
   "outputs": [],
   "source": [
    "import torchvision"
   ]
  },
  {
   "cell_type": "code",
   "execution_count": 5,
   "metadata": {},
   "outputs": [
    {
     "data": {
      "text/plain": [
       "True"
      ]
     },
     "execution_count": 5,
     "metadata": {},
     "output_type": "execute_result"
    }
   ],
   "source": [
    "torch.cuda.is_available()"
   ]
  },
  {
   "cell_type": "code",
   "execution_count": 6,
   "metadata": {},
   "outputs": [
    {
     "name": "stdout",
     "output_type": "stream",
     "text": [
      "Looking in indexes: https://download.pytorch.org/whl/cu118\n",
      "Requirement already satisfied: torch in d:\\cs-dev\\e2e-ai-app\\nlp\\nlp_summarization\\huggingface\\lib\\site-packages (2.2.2+cu118)\n",
      "Requirement already satisfied: torchvision in d:\\cs-dev\\e2e-ai-app\\nlp\\nlp_summarization\\huggingface\\lib\\site-packages (0.17.2+cu118)\n",
      "Requirement already satisfied: torchaudio in d:\\cs-dev\\e2e-ai-app\\nlp\\nlp_summarization\\huggingface\\lib\\site-packages (2.2.2+cu118)\n",
      "Requirement already satisfied: jinja2 in d:\\cs-dev\\e2e-ai-app\\nlp\\nlp_summarization\\huggingface\\lib\\site-packages (from torch) (3.1.3)\n",
      "Requirement already satisfied: filelock in d:\\cs-dev\\e2e-ai-app\\nlp\\nlp_summarization\\huggingface\\lib\\site-packages (from torch) (3.13.4)\n",
      "Requirement already satisfied: sympy in d:\\cs-dev\\e2e-ai-app\\nlp\\nlp_summarization\\huggingface\\lib\\site-packages (from torch) (1.12)\n",
      "Requirement already satisfied: typing-extensions>=4.8.0 in d:\\cs-dev\\e2e-ai-app\\nlp\\nlp_summarization\\huggingface\\lib\\site-packages (from torch) (4.11.0)\n",
      "Requirement already satisfied: networkx in d:\\cs-dev\\e2e-ai-app\\nlp\\nlp_summarization\\huggingface\\lib\\site-packages (from torch) (3.2.1)\n",
      "Requirement already satisfied: fsspec in d:\\cs-dev\\e2e-ai-app\\nlp\\nlp_summarization\\huggingface\\lib\\site-packages (from torch) (2024.3.1)\n",
      "Requirement already satisfied: pillow!=8.3.*,>=5.3.0 in d:\\cs-dev\\e2e-ai-app\\nlp\\nlp_summarization\\huggingface\\lib\\site-packages (from torchvision) (10.2.0)\n",
      "Requirement already satisfied: numpy in d:\\cs-dev\\e2e-ai-app\\nlp\\nlp_summarization\\huggingface\\lib\\site-packages (from torchvision) (1.26.4)\n",
      "Requirement already satisfied: MarkupSafe>=2.0 in d:\\cs-dev\\e2e-ai-app\\nlp\\nlp_summarization\\huggingface\\lib\\site-packages (from jinja2->torch) (2.1.5)\n",
      "Requirement already satisfied: mpmath>=0.19 in d:\\cs-dev\\e2e-ai-app\\nlp\\nlp_summarization\\huggingface\\lib\\site-packages (from sympy->torch) (1.3.0)\n",
      "Note: you may need to restart the kernel to use updated packages.\n"
     ]
    },
    {
     "name": "stderr",
     "output_type": "stream",
     "text": [
      "WARNING: You are using pip version 21.1.3; however, version 24.0 is available.\n",
      "You should consider upgrading via the 'd:\\CS-Dev\\E2E-AI-App\\NLP\\NLP_summarization\\huggingface\\Scripts\\python.exe -m pip install --upgrade pip' command.\n"
     ]
    }
   ],
   "source": [
    "#pip install -U torch torchvision torchaudio --index-url https://download.pytorch.org/whl/cu118"
   ]
  },
  {
   "cell_type": "code",
   "execution_count": null,
   "metadata": {},
   "outputs": [],
   "source": []
  }
 ],
 "metadata": {
  "kernelspec": {
   "display_name": "huggingface",
   "language": "python",
   "name": "python3"
  },
  "language_info": {
   "codemirror_mode": {
    "name": "ipython",
    "version": 3
   },
   "file_extension": ".py",
   "mimetype": "text/x-python",
   "name": "python",
   "nbconvert_exporter": "python",
   "pygments_lexer": "ipython3",
   "version": "3.9.6"
  }
 },
 "nbformat": 4,
 "nbformat_minor": 2
}
